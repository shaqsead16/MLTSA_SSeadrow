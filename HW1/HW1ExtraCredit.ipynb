{
 "cells": [
  {
   "cell_type": "markdown",
   "metadata": {
    "colab_type": "text",
    "id": "z0R0TGbtWEPn"
   },
   "source": [
    "MLTSA UDel PHYS667 Sprint 2020"
   ]
  },
  {
   "cell_type": "markdown",
   "metadata": {
    "colab_type": "text",
    "id": "k8oMoAaaWKIs"
   },
   "source": [
    "HW1 Extra Credit :"
   ]
  },
  {
   "cell_type": "markdown",
   "metadata": {
    "colab_type": "text",
    "id": "rVdc0fnvWNEZ"
   },
   "source": [
    "Solve Exercise 1, 2, 3 from https://arxiv.org/pdf/1008.4686.pdf"
   ]
  },
  {
   "cell_type": "code",
   "execution_count": 253,
   "metadata": {},
   "outputs": [],
   "source": [
    "import numpy as np \n",
    "import matplotlib.pylab as plt\n",
    "import pandas as pd \n",
    "\n",
    "###This exercise relies primarily on the use of equation 5 in the paper. "
   ]
  },
  {
   "cell_type": "code",
   "execution_count": 199,
   "metadata": {},
   "outputs": [],
   "source": [
    "####Data was formated by Riley Clark\n",
    "dh_dat = pd.DataFrame(np.array([[201,592,61,9,-0.84],\n",
    "                            [244,401,25,4,0.31],\n",
    "                            [47,583,38,11,0.64],\n",
    "                            [287,402,15,7,-0.27],\n",
    "                            [203,495,21,5,-0.33],\n",
    "                            [58,173,15,9,0.67],\n",
    "                            [210,479,27,4,-0.02],\n",
    "                            [202,504,14,4,-0.05],\n",
    "                            [198,510,30,11,-0.84],\n",
    "                            [158,416,16,7,-0.69],\n",
    "                            [165,393,14,5,0.30],\n",
    "                            [201,442,25,5,-0.46],\n",
    "                            [157,317,52,5,-0.03],\n",
    "                            [131,311,16,6,0.50],\n",
    "                            [166,400,34,6,0.73],\n",
    "                            [160,337,31,5,-0.52],\n",
    "                            [186,423,42,9,0.90],\n",
    "                            [125,334,26,8,0.40],\n",
    "                            [218,533,16,6,-0.78],\n",
    "                            [146,344,22,5,-0.56]\n",
    "                            ]),index=np.arange(1,21),columns=('x','y','s_y','s_x','rho_xy'))"
   ]
  },
  {
   "cell_type": "code",
   "execution_count": 281,
   "metadata": {},
   "outputs": [
    {
     "name": "stdout",
     "output_type": "stream",
     "text": [
      "(15, 2)\n"
     ]
    }
   ],
   "source": [
    "####Constructing the arrays, based on the size of y. \n",
    "### we set y directrly from the data set, excluding the first 5 values. \n",
    "y_dat1 = dh_dat['y'][5:20].astype(float)\n",
    "\n",
    "####The A matrix\n",
    "A_1 = np.ones((y_dat1.size,2), dtype=float)\n",
    "A_1[:,1] =dh_dat['x'][5:20].astype(float)\n",
    "####The covariance matrix \n",
    "C_1 = np.zeros((y_dat1.size,y_dat1.size), dtype=float)"
   ]
  },
  {
   "cell_type": "code",
   "execution_count": 264,
   "metadata": {},
   "outputs": [],
   "source": [
    "####Putting the y_err into the diagonal of the covariance matrix.\n",
    "for i in range(0, y_dat1.size): \n",
    "    C_1[i][i] = (dh_dat['s_y'][i + 5])**2.0\n"
   ]
  },
  {
   "cell_type": "markdown",
   "metadata": {},
   "source": [
    "We then compute the linear algebraic expression from the paper, to get the two paramaters, slope and intercept. "
   ]
  },
  {
   "cell_type": "code",
   "execution_count": 265,
   "metadata": {},
   "outputs": [
    {
     "name": "stdout",
     "output_type": "stream",
     "text": [
      "The slope is 2.181397807857252\n",
      "The intercept is 33.84671723631436\n"
     ]
    }
   ],
   "source": [
    "X = np.linalg.inv(A_1.T.dot(np.linalg.inv(C_1)).dot(A_1)).dot(A_1.T.dot(np.linalg.inv(C_1)).dot(y_dat1))\n",
    "print('The slope is ' + str(X[1]))\n",
    "print('The intercept is ' + str(X[0]))\n",
    "\n",
    "#####Creating a linear fuction that uses the calculated  parameters \n",
    "def line_1(x, m1, b1): \n",
    "    return (m1 * x ) + b1 "
   ]
  },
  {
   "cell_type": "code",
   "execution_count": 266,
   "metadata": {},
   "outputs": [
    {
     "data": {
      "text/plain": [
       "(0, 640)"
      ]
     },
     "execution_count": 266,
     "metadata": {},
     "output_type": "execute_result"
    },
    {
     "data": {
      "image/png": "[encoded data removed]",
      "text/plain": [
       "<Figure size 432x432 with 1 Axes>"
      ]
     },
     "metadata": {
      "needs_background": "light"
     },
     "output_type": "display_data"
    }
   ],
   "source": [
    "####plotting the points, errors, and the linear fit. \n",
    "x_arr = np.arange(0, 280, 10, dtype= float)\n",
    "ax = plt.figure(figsize=(6,6)).add_subplot(111) \n",
    "ax.errorbar(dh_dat['x'][5:20], y_dat1, yerr= dh_dat['s_y'][5:20], fmt='.', c= 'b')\n",
    "ax.plot(x_arr, line_1(x_arr, X[1], X[0]), c='k')\n",
    "ax.set_xlabel('x', fontsize=16)\n",
    "ax.set_ylabel('y', fontsize=16)\n",
    "ax.set_title('Exercise 1', fontsize=20)\n",
    "ax.set_xlim(0, 270) \n",
    "ax.set_ylim(0,640) \n"
   ]
  },
  {
   "cell_type": "markdown",
   "metadata": {},
   "source": [
    "Figure 1: Plotting of data from the table with the linear fit, with parameters found via the linear algebraic approach.  "
   ]
  },
  {
   "cell_type": "code",
   "execution_count": 276,
   "metadata": {},
   "outputs": [
    {
     "name": "stdout",
     "output_type": "stream",
     "text": [
      "Accroding the the algebraic solution the error in slope is  0.03703934347634931\n"
     ]
    }
   ],
   "source": [
    "####Finding the error of the slope \n",
    "##Using equation from page 5 in the paper. assuming the error in y are guassian. \n",
    "m_err = np.matmul(np.matmul(np.transpose(A_1), np.linalg.inv(C_1)), A_1)\n",
    "\n",
    "\n",
    "###variances are the diagonal elements\n",
    "\n",
    "print('Accroding the the algebraic solution the error in slope is  ' + str(m_err[0][0]))"
   ]
  },
  {
   "cell_type": "markdown",
   "metadata": {},
   "source": [
    "Exercise 2 "
   ]
  },
  {
   "cell_type": "code",
   "execution_count": 205,
   "metadata": {},
   "outputs": [],
   "source": [
    "####Constructing the arrays, based on the size of y. \n",
    "### we set y directrly from the data set, excluding the first 5 values. \n",
    "y_dat2 = dh_dat['y'].astype(float)\n",
    "\n",
    "y_err = dh_dat['s_y'].astype(float)\n",
    "\n",
    "A_2 = np.ones((y_dat2.size,2))\n",
    "A_2[:,1] = dh_dat['x'].astype(float)\n",
    "\n",
    "C_2 = np.zeros((y_dat2.size,y_dat2.size), dtype=float) \n",
    "\n",
    "###pulling the diagonal indices \n",
    "d2 = np.diag_indices(y_dat2.size)\n",
    "\n",
    "\n",
    "\n",
    "\n"
   ]
  },
  {
   "cell_type": "code",
   "execution_count": 207,
   "metadata": {},
   "outputs": [],
   "source": [
    "####Putting the y_err into the diagonal of the covariance matrix.\n",
    "C_2[d2] = (y_err)**2\n",
    "\n"
   ]
  },
  {
   "cell_type": "code",
   "execution_count": 222,
   "metadata": {},
   "outputs": [
    {
     "name": "stdout",
     "output_type": "stream",
     "text": [
      "The slope is 1.0767475241683258\n",
      "The intercept is 213.27349197596095\n"
     ]
    }
   ],
   "source": [
    "X_2_l = np.linalg.inv(np.matmul(np.transpose(A_2),  np.matmul(np.linalg.inv(C_2),A_2)))\n",
    "X_2_r =  np.matmul(np.transpose(A_2), np.matmul(np.linalg.inv(C_2), y_dat2))\n",
    "X_2 = np.matmul(X_2_l, X_2_r)\n",
    "\n",
    "print('The slope is ' + str(X_2[1]))\n",
    "print('The intercept is ' + str(X_2[0]))    "
   ]
  },
  {
   "cell_type": "code",
   "execution_count": 285,
   "metadata": {},
   "outputs": [
    {
     "data": {
      "text/plain": [
       "(0, 640)"
      ]
     },
     "execution_count": 285,
     "metadata": {},
     "output_type": "execute_result"
    },
    {
     "data": {
      "image/png": "[encoded data removed]",
      "text/plain": [
       "<Figure size 432x432 with 1 Axes>"
      ]
     },
     "metadata": {
      "needs_background": "light"
     },
     "output_type": "display_data"
    }
   ],
   "source": [
    "x_arr = np.arange(0, 310, 10, dtype= float)\n",
    "ax = plt.figure(figsize=(6,6)).add_subplot(111) \n",
    "ax.errorbar(dh_dat['x'][0:5], y_dat2[0:5], yerr= dh_dat['s_y'][0:5], fmt='.', c= 'r')\n",
    "ax.errorbar(dh_dat['x'][5:20], y_dat2[5:20], yerr= dh_dat['s_y'][5:20], fmt='.', c= 'b')\n",
    "ax.plot(x_arr, line_1(x_arr, X_2[1], X_2[0]), c='k')\n",
    "ax.set_xlabel('x', fontsize=16)\n",
    "ax.set_ylabel('y', fontsize=16) \n",
    "ax.set_xlim(0, 300) \n",
    "ax.set_ylim(0,640)\n"
   ]
  },
  {
   "cell_type": "markdown",
   "metadata": {},
   "source": [
    "Figure 2: Similiar to figure 1, as well as in methodology, but the 5 intial data points are included, and a new fit is calculated. The newer data point in red, do not lie closely with the data from Exercise 1, but do not cause significant change to the slope parameter. "
   ]
  },
  {
   "cell_type": "markdown",
   "metadata": {},
   "source": [
    "Exerise 3 "
   ]
  },
  {
   "cell_type": "code",
   "execution_count": 237,
   "metadata": {},
   "outputs": [],
   "source": [
    "###Exercise 3 has the same procedure a exercise 1, but we ass an extra column to A\n",
    "A_3 = np.ones((y_dat1.size,3), dtype= float)\n",
    "A_3[:,1] =dh_dat['x'][5:20].astype(float) \n",
    "A_3[:,2] = (dh_dat['x'][5:20].astype(float))**2.0\n",
    "\n",
    "\n"
   ]
  },
  {
   "cell_type": "code",
   "execution_count": 239,
   "metadata": {},
   "outputs": [
    {
     "name": "stdout",
     "output_type": "stream",
     "text": [
      "The slope is 1.4803510519653855\n",
      "The second order quadratic parameter 0.0024315422294987066\n",
      "The intercept is 78.70543354391702\n"
     ]
    }
   ],
   "source": [
    "###We continue to use the other arrays from problem 1 to perform the linear algebraic operations. \n",
    "####I keep the operations grouped by tripple products. \n",
    "X_3_l = np.linalg.inv(np.matmul(np.transpose(A_3), np.matmul((np.linalg.inv(C_1)), (A_3))))\n",
    "X_3_r = np.matmul(np.transpose(A_3), np.matmul(np.linalg.inv(C_1), (y_dat1)))\n",
    "X_3  = np.matmul(X_3_l, X_3_r)                         \n",
    "\n",
    "print('The slope is ' + str(X_3[1]))\n",
    "print('The second order quadratic parameter ' + str(X_3[2]))\n",
    "print('The intercept is ' + str(X_3[0]))   "
   ]
  },
  {
   "cell_type": "code",
   "execution_count": 240,
   "metadata": {},
   "outputs": [],
   "source": [
    "#####Creating a linear fuction that uses the calculated  parameters \n",
    "def quad_3(x, q3, m3, b3): \n",
    "    return (q3 * (x**2.0)) + (m3 * x ) + b3 "
   ]
  },
  {
   "cell_type": "code",
   "execution_count": 251,
   "metadata": {},
   "outputs": [
    {
     "data": {
      "text/plain": [
       "(0, 640)"
      ]
     },
     "execution_count": 251,
     "metadata": {},
     "output_type": "execute_result"
    },
    {
     "data": {
      "image/png": "[encoded data removed]",
      "text/plain": [
       "<Figure size 432x432 with 1 Axes>"
      ]
     },
     "metadata": {
      "needs_background": "light"
     },
     "output_type": "display_data"
    }
   ],
   "source": [
    "x_arr = np.arange(0, 310, 10)\n",
    "ax = plt.figure(figsize=(6,6)).add_subplot(111) \n",
    "ax.errorbar(dh_dat['x'][5:20], y_dat1, yerr= dh_dat['s_y'][5:20], fmt='.', c= 'b')\n",
    "ax.plot(x_arr, quad_3(x_arr, X_3[2], X_3[1], X_3[0]), c='k')\n",
    "ax.set_xlabel('x', fontsize=16)\n",
    "ax.set_ylabel('y', fontsize=16) \n",
    "ax.set_xlim(0, 300) \n",
    "ax.set_ylim(0,640)"
   ]
  },
  {
   "cell_type": "markdown",
   "metadata": {},
   "source": [
    "Figure 3: This involves the same data as in figure 1, but we solve for a quadratic solution in stead. In contrast to figure 1, it fall in closer proximity to more data points. "
   ]
  },
  {
   "cell_type": "code",
   "execution_count": null,
   "metadata": {},
   "outputs": [],
   "source": []
  }
 ],
 "metadata": {
  "colab": {
   "name": "HW1ExtraCredit.ipynb",
   "provenance": []
  },
  "kernelspec": {
   "display_name": "Python 3",
   "language": "python",
   "name": "python3"
  },
  "language_info": {
   "codemirror_mode": {
    "name": "ipython",
    "version": 3
   },
   "file_extension": ".py",
   "mimetype": "text/x-python",
   "name": "python",
   "nbconvert_exporter": "python",
   "pygments_lexer": "ipython3",
   "version": "3.7.4"
  }
 },
 "nbformat": 4,
 "nbformat_minor": 1
}
